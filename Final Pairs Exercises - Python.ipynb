{
 "cells": [
  {
   "cell_type": "markdown",
   "metadata": {},
   "source": [
    "1. Our function just takes B and T as arguments. It first creates a T*3 matrix with the first column filled with iteration number and the rest two columns used to store the values of x and y. It then gives the starting value of B/2 to each of x and y. For each iteration, the function first updates x using an exponential distribution with the current y as the rate parameter in a ways that x falls between 0 and B; it then updates y using an exponential distribution with the current x as the rate parameter in a way that y falls between 0 and B. After each iteration, the functions just stores the resulting values of x and y in the corresponding row of the matrix. After all the iteration the function returns the whole matrix."
   ]
  },
  {
   "cell_type": "code",
   "execution_count": 15,
   "metadata": {},
   "outputs": [],
   "source": [
    "import numpy as np\n",
    "import matplotlib.pyplot as plt\n",
    "\n",
    "def gibbs(B,T):\n",
    "  mat=np.zeros((T,3))\n",
    "  x=B/2\n",
    "  y=B/2\n",
    "  mat[:,0]=np.array(range(T))+1\n",
    "  for i in range(T):\n",
    "    x=B+1\n",
    "    while x>=B:\n",
    "        x=np.random.exponential(1/y)\n",
    "    y=B+1\n",
    "    while y>=B:\n",
    "        y=np.random.exponential(1/x)\n",
    "    mat[i,1]=x\n",
    "    mat[i,2]=y\n",
    "  return mat "
   ]
  },
  {
   "cell_type": "markdown",
   "metadata": {},
   "source": [
    "2. We've made the historgrams below."
   ]
  },
  {
   "cell_type": "code",
   "execution_count": 16,
   "metadata": {},
   "outputs": [],
   "source": [
    "m1=gibbs(5,500)\n",
    "m2=gibbs(5,5000)\n",
    "m3=gibbs(5,50000)"
   ]
  },
  {
   "cell_type": "code",
   "execution_count": 21,
   "metadata": {},
   "outputs": [
    {
     "data": {
      "image/png": "[encoded data removed]",
      "text/plain": [
       "<Figure size 432x288 with 1 Axes>"
      ]
     },
     "metadata": {
      "needs_background": "light"
     },
     "output_type": "display_data"
    },
    {
     "data": {
      "image/png": "[encoded data removed]",
      "text/plain": [
       "<Figure size 432x288 with 1 Axes>"
      ]
     },
     "metadata": {
      "needs_background": "light"
     },
     "output_type": "display_data"
    },
    {
     "data": {
      "image/png": "[encoded data removed]",
      "text/plain": [
       "<Figure size 432x288 with 1 Axes>"
      ]
     },
     "metadata": {
      "needs_background": "light"
     },
     "output_type": "display_data"
    }
   ],
   "source": [
    "plt.hist(m1[:,1])\n",
    "plt.xlabel(\"x\")\n",
    "plt.ylabel(\"Frequency\")\n",
    "plt.title(\"T=500\")\n",
    "plt.show()\n",
    "plt.hist(m2[:,1])\n",
    "plt.xlabel(\"x\")\n",
    "plt.ylabel(\"Frequency\")\n",
    "plt.title(\"T=5000\")\n",
    "plt.show()\n",
    "plt.hist(m3[:,1])\n",
    "plt.xlabel(\"x\")\n",
    "plt.ylabel(\"Frequency\")\n",
    "plt.title(\"T=50000\")\n",
    "plt.show()"
   ]
  },
  {
   "cell_type": "markdown",
   "metadata": {},
   "source": [
    "The mean for T=500:"
   ]
  },
  {
   "cell_type": "code",
   "execution_count": 23,
   "metadata": {},
   "outputs": [
    {
     "data": {
      "text/plain": [
       "1.2388561595115106"
      ]
     },
     "execution_count": 23,
     "metadata": {},
     "output_type": "execute_result"
    }
   ],
   "source": [
    "np.mean(m1[:,1])"
   ]
  },
  {
   "cell_type": "code",
   "execution_count": null,
   "metadata": {},
   "outputs": [],
   "source": [
    "The mean for T=5000:"
   ]
  },
  {
   "cell_type": "code",
   "execution_count": 24,
   "metadata": {},
   "outputs": [
    {
     "data": {
      "text/plain": [
       "1.187783908684368"
      ]
     },
     "execution_count": 24,
     "metadata": {},
     "output_type": "execute_result"
    }
   ],
   "source": [
    "np.mean(m2[:,1])"
   ]
  },
  {
   "cell_type": "code",
   "execution_count": null,
   "metadata": {},
   "outputs": [],
   "source": [
    "The mean for T=50000:"
   ]
  },
  {
   "cell_type": "code",
   "execution_count": 25,
   "metadata": {},
   "outputs": [
    {
     "data": {
      "text/plain": [
       "1.2617922415977403"
      ]
     },
     "execution_count": 25,
     "metadata": {},
     "output_type": "execute_result"
    }
   ],
   "source": [
    "np.mean(m3[:,1])"
   ]
  }
 ],
 "metadata": {
  "kernelspec": {
   "display_name": "Python 3",
   "language": "python",
   "name": "python3"
  },
  "language_info": {
   "codemirror_mode": {
    "name": "ipython",
    "version": 3
   },
   "file_extension": ".py",
   "mimetype": "text/x-python",
   "name": "python",
   "nbconvert_exporter": "python",
   "pygments_lexer": "ipython3",
   "version": "3.8.3"
  }
 },
 "nbformat": 4,
 "nbformat_minor": 4
}
